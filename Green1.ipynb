{
 "cells": [
  {
   "cell_type": "code",
   "execution_count": 35,
   "metadata": {},
   "outputs": [
    {
     "name": "stdout",
     "output_type": "stream",
     "text": [
      "Populating the interactive namespace from numpy and matplotlib\n"
     ]
    },
    {
     "data": {
      "text/html": [
       "<div>\n",
       "<style scoped>\n",
       "    .dataframe tbody tr th:only-of-type {\n",
       "        vertical-align: middle;\n",
       "    }\n",
       "\n",
       "    .dataframe tbody tr th {\n",
       "        vertical-align: top;\n",
       "    }\n",
       "\n",
       "    .dataframe thead th {\n",
       "        text-align: right;\n",
       "    }\n",
       "</style>\n",
       "<table border=\"1\" class=\"dataframe\">\n",
       "  <thead>\n",
       "    <tr style=\"text-align: right;\">\n",
       "      <th></th>\n",
       "      <th>CS_PropertyID</th>\n",
       "      <th>cluster</th>\n",
       "      <th>size</th>\n",
       "      <th>empl_gr</th>\n",
       "      <th>Rent</th>\n",
       "      <th>leasing_rate</th>\n",
       "      <th>stories</th>\n",
       "      <th>age</th>\n",
       "      <th>renovated</th>\n",
       "      <th>class_a</th>\n",
       "      <th>...</th>\n",
       "      <th>green_rating</th>\n",
       "      <th>net</th>\n",
       "      <th>amenities</th>\n",
       "      <th>cd_total_07</th>\n",
       "      <th>hd_total07</th>\n",
       "      <th>total_dd_07</th>\n",
       "      <th>Precipitation</th>\n",
       "      <th>Gas_Costs</th>\n",
       "      <th>Electricity_Costs</th>\n",
       "      <th>cluster_rent</th>\n",
       "    </tr>\n",
       "  </thead>\n",
       "  <tbody>\n",
       "    <tr>\n",
       "      <th>0</th>\n",
       "      <td>379105</td>\n",
       "      <td>1</td>\n",
       "      <td>260300</td>\n",
       "      <td>2.22</td>\n",
       "      <td>38.56</td>\n",
       "      <td>91.39</td>\n",
       "      <td>14</td>\n",
       "      <td>16</td>\n",
       "      <td>0</td>\n",
       "      <td>1</td>\n",
       "      <td>...</td>\n",
       "      <td>1</td>\n",
       "      <td>0</td>\n",
       "      <td>1</td>\n",
       "      <td>4988</td>\n",
       "      <td>58</td>\n",
       "      <td>5046</td>\n",
       "      <td>42.57</td>\n",
       "      <td>0.013700</td>\n",
       "      <td>0.029000</td>\n",
       "      <td>36.78</td>\n",
       "    </tr>\n",
       "    <tr>\n",
       "      <th>1</th>\n",
       "      <td>122151</td>\n",
       "      <td>1</td>\n",
       "      <td>67861</td>\n",
       "      <td>2.22</td>\n",
       "      <td>28.57</td>\n",
       "      <td>87.14</td>\n",
       "      <td>5</td>\n",
       "      <td>27</td>\n",
       "      <td>0</td>\n",
       "      <td>0</td>\n",
       "      <td>...</td>\n",
       "      <td>0</td>\n",
       "      <td>0</td>\n",
       "      <td>1</td>\n",
       "      <td>4988</td>\n",
       "      <td>58</td>\n",
       "      <td>5046</td>\n",
       "      <td>42.57</td>\n",
       "      <td>0.013731</td>\n",
       "      <td>0.029045</td>\n",
       "      <td>36.78</td>\n",
       "    </tr>\n",
       "    <tr>\n",
       "      <th>2</th>\n",
       "      <td>379839</td>\n",
       "      <td>1</td>\n",
       "      <td>164848</td>\n",
       "      <td>2.22</td>\n",
       "      <td>33.31</td>\n",
       "      <td>88.94</td>\n",
       "      <td>13</td>\n",
       "      <td>36</td>\n",
       "      <td>1</td>\n",
       "      <td>0</td>\n",
       "      <td>...</td>\n",
       "      <td>0</td>\n",
       "      <td>0</td>\n",
       "      <td>1</td>\n",
       "      <td>4988</td>\n",
       "      <td>58</td>\n",
       "      <td>5046</td>\n",
       "      <td>42.57</td>\n",
       "      <td>0.013731</td>\n",
       "      <td>0.029045</td>\n",
       "      <td>36.78</td>\n",
       "    </tr>\n",
       "    <tr>\n",
       "      <th>3</th>\n",
       "      <td>94614</td>\n",
       "      <td>1</td>\n",
       "      <td>93372</td>\n",
       "      <td>2.22</td>\n",
       "      <td>35.00</td>\n",
       "      <td>97.04</td>\n",
       "      <td>13</td>\n",
       "      <td>46</td>\n",
       "      <td>1</td>\n",
       "      <td>0</td>\n",
       "      <td>...</td>\n",
       "      <td>0</td>\n",
       "      <td>0</td>\n",
       "      <td>0</td>\n",
       "      <td>4988</td>\n",
       "      <td>58</td>\n",
       "      <td>5046</td>\n",
       "      <td>42.57</td>\n",
       "      <td>0.013731</td>\n",
       "      <td>0.029045</td>\n",
       "      <td>36.78</td>\n",
       "    </tr>\n",
       "    <tr>\n",
       "      <th>4</th>\n",
       "      <td>379285</td>\n",
       "      <td>1</td>\n",
       "      <td>174307</td>\n",
       "      <td>2.22</td>\n",
       "      <td>40.69</td>\n",
       "      <td>96.58</td>\n",
       "      <td>16</td>\n",
       "      <td>5</td>\n",
       "      <td>0</td>\n",
       "      <td>1</td>\n",
       "      <td>...</td>\n",
       "      <td>0</td>\n",
       "      <td>0</td>\n",
       "      <td>1</td>\n",
       "      <td>4988</td>\n",
       "      <td>58</td>\n",
       "      <td>5046</td>\n",
       "      <td>42.57</td>\n",
       "      <td>0.013731</td>\n",
       "      <td>0.029045</td>\n",
       "      <td>36.78</td>\n",
       "    </tr>\n",
       "  </tbody>\n",
       "</table>\n",
       "<p>5 rows × 23 columns</p>\n",
       "</div>"
      ],
      "text/plain": [
       "   CS_PropertyID  cluster    size  empl_gr   Rent  leasing_rate  stories  age  \\\n",
       "0         379105        1  260300     2.22  38.56         91.39       14   16   \n",
       "1         122151        1   67861     2.22  28.57         87.14        5   27   \n",
       "2         379839        1  164848     2.22  33.31         88.94       13   36   \n",
       "3          94614        1   93372     2.22  35.00         97.04       13   46   \n",
       "4         379285        1  174307     2.22  40.69         96.58       16    5   \n",
       "\n",
       "   renovated  class_a  ...  green_rating  net  amenities  cd_total_07  \\\n",
       "0          0        1  ...             1    0          1         4988   \n",
       "1          0        0  ...             0    0          1         4988   \n",
       "2          1        0  ...             0    0          1         4988   \n",
       "3          1        0  ...             0    0          0         4988   \n",
       "4          0        1  ...             0    0          1         4988   \n",
       "\n",
       "   hd_total07  total_dd_07  Precipitation  Gas_Costs  Electricity_Costs  \\\n",
       "0          58         5046          42.57   0.013700           0.029000   \n",
       "1          58         5046          42.57   0.013731           0.029045   \n",
       "2          58         5046          42.57   0.013731           0.029045   \n",
       "3          58         5046          42.57   0.013731           0.029045   \n",
       "4          58         5046          42.57   0.013731           0.029045   \n",
       "\n",
       "   cluster_rent  \n",
       "0         36.78  \n",
       "1         36.78  \n",
       "2         36.78  \n",
       "3         36.78  \n",
       "4         36.78  \n",
       "\n",
       "[5 rows x 23 columns]"
      ]
     },
     "execution_count": 35,
     "metadata": {},
     "output_type": "execute_result"
    }
   ],
   "source": [
    "import pandas as pd\n",
    "%pylab inline\n",
    "import numpy as np\n",
    "import matplotlib.pyplot as plt\n",
    "\n",
    "df = pd.read_csv(\"greenbuildings.csv\")\n",
    "df.head(5)"
   ]
  },
  {
   "cell_type": "code",
   "execution_count": 36,
   "metadata": {},
   "outputs": [],
   "source": [
    "for i in range(len(df['hd_total07'])):\n",
    "    if df.loc[i, 'hd_total07'] < 1000:\n",
    "        df.loc[i, 'hd_total07_quantiles'] = \"<1000\"\n",
    "    \n",
    "    if df.loc[i, 'hd_total07'] >= 1000 and df.loc[i, 'hd_total07'] < 2000:\n",
    "        df.loc[i, 'hd_total07_quantiles'] = \"1000-2000\"\n",
    "    \n",
    "    if df.loc[i, 'hd_total07'] >= 2000 and df.loc[i, 'hd_total07'] < 3000:\n",
    "        df.loc[i, 'hd_total07_quantiles'] = \"2000-3000\"\n",
    "    \n",
    "    if df.loc[i, 'hd_total07'] >= 3000 and df.loc[i, 'hd_total07'] < 4000:\n",
    "        df.loc[i, 'hd_total07_quantiles'] = \"3000-4000\"\n",
    "    \n",
    "    if df.loc[i, 'hd_total07'] >= 4000 and df.loc[i, 'hd_total07'] < 5000:\n",
    "        df.loc[i, 'hd_total07_quantiles'] = \"4000-5000\"\n",
    "    \n",
    "    if df.loc[i, 'hd_total07'] >= 5000:\n",
    "        df.loc[i, 'hd_total07_quantiles'] = \">5000\"\n",
    "        "
   ]
  },
  {
   "cell_type": "code",
   "execution_count": 37,
   "metadata": {},
   "outputs": [],
   "source": [
    "for i in range(len(df['cd_total_07'])):\n",
    "    if df.loc[i, 'cd_total_07'] < 1000:\n",
    "        df.loc[i, 'cd_total_07_quantiles'] = \"<1000\"\n",
    "    \n",
    "    if df.loc[i, 'cd_total_07'] >= 1000 and df.loc[i, 'cd_total_07'] < 2000:\n",
    "        df.loc[i, 'cd_total_07_quantiles'] = \"1000-2000\"\n",
    "    \n",
    "    if df.loc[i, 'cd_total_07'] >= 2000 and df.loc[i, 'cd_total_07'] < 3000:\n",
    "        df.loc[i, 'cd_total_07_quantiles'] = \"2000-3000\"\n",
    "    \n",
    "    if df.loc[i, 'cd_total_07'] >= 3000 and df.loc[i, 'cd_total_07'] < 4000:\n",
    "        df.loc[i, 'cd_total_07_quantiles'] = \"3000-4000\"\n",
    "    \n",
    "    if df.loc[i, 'cd_total_07'] >= 4000 and df.loc[i, 'cd_total_07'] < 5000:\n",
    "        df.loc[i, 'cd_total_07_quantiles'] = \"4000-5000\"\n",
    "    \n",
    "    if df.loc[i, 'cd_total_07'] >= 5000:\n",
    "        df.loc[i, 'cd_total_07_quantiles'] = \">5000\""
   ]
  },
  {
   "cell_type": "code",
   "execution_count": 38,
   "metadata": {},
   "outputs": [],
   "source": [
    "df_g = df.groupby(['cd_total_07_quantiles', 'green_rating'])['Rent'].agg('mean')\n",
    "df_g.reset_index()\n",
    "df = pd.merge(df,df_g, left_on = ['cd_total_07_quantiles', 'green_rating'] , right_on = ['cd_total_07_quantiles', 'green_rating'])\n",
    "\n",
    "df_h = df.groupby(['hd_total07_quantiles', 'green_rating'])['Rent_x'].agg('mean')\n",
    "df_h.reset_index()\n",
    "df = pd.merge(df,df_h, left_on = ['hd_total07_quantiles', 'green_rating'] , right_on = ['hd_total07_quantiles', 'green_rating'])\n",
    "\n",
    "# df.to_csv(\"rentColdDays.csv\")"
   ]
  },
  {
   "cell_type": "code",
   "execution_count": 44,
   "metadata": {},
   "outputs": [
    {
     "data": {
      "text/plain": [
       "<matplotlib.axes._subplots.AxesSubplot at 0x2cd949f5948>"
      ]
     },
     "execution_count": 44,
     "metadata": {},
     "output_type": "execute_result"
    },
    {
     "data": {
      "image/png": "[encoded data removed]",
      "text/plain": [
       "<Figure size 432x288 with 1 Axes>"
      ]
     },
     "metadata": {
      "needs_background": "light"
     },
     "output_type": "display_data"
    }
   ],
   "source": [
    "df[[ 'cd_total_07_quantiles', 'Rent_y']].drop_duplicates().set_index('cd_total_07_quantiles').plot(kind = 'bar')"
   ]
  },
  {
   "cell_type": "code",
   "execution_count": 53,
   "metadata": {},
   "outputs": [
    {
     "data": {
      "text/html": [
       "<div>\n",
       "<style scoped>\n",
       "    .dataframe tbody tr th:only-of-type {\n",
       "        vertical-align: middle;\n",
       "    }\n",
       "\n",
       "    .dataframe tbody tr th {\n",
       "        vertical-align: top;\n",
       "    }\n",
       "\n",
       "    .dataframe thead th {\n",
       "        text-align: right;\n",
       "    }\n",
       "</style>\n",
       "<table border=\"1\" class=\"dataframe\">\n",
       "  <thead>\n",
       "    <tr style=\"text-align: right;\">\n",
       "      <th></th>\n",
       "      <th>Rent_x_y</th>\n",
       "    </tr>\n",
       "    <tr>\n",
       "      <th>hd_total07_quantiles</th>\n",
       "      <th></th>\n",
       "    </tr>\n",
       "  </thead>\n",
       "  <tbody>\n",
       "    <tr>\n",
       "      <th>&lt;1000</th>\n",
       "      <td>27.394571</td>\n",
       "    </tr>\n",
       "    <tr>\n",
       "      <th>1000-2000</th>\n",
       "      <td>32.455549</td>\n",
       "    </tr>\n",
       "    <tr>\n",
       "      <th>&lt;1000</th>\n",
       "      <td>23.416327</td>\n",
       "    </tr>\n",
       "    <tr>\n",
       "      <th>1000-2000</th>\n",
       "      <td>28.682854</td>\n",
       "    </tr>\n",
       "    <tr>\n",
       "      <th>2000-3000</th>\n",
       "      <td>29.277009</td>\n",
       "    </tr>\n",
       "    <tr>\n",
       "      <th>3000-4000</th>\n",
       "      <td>34.625238</td>\n",
       "    </tr>\n",
       "    <tr>\n",
       "      <th>4000-5000</th>\n",
       "      <td>33.789298</td>\n",
       "    </tr>\n",
       "    <tr>\n",
       "      <th>2000-3000</th>\n",
       "      <td>30.991326</td>\n",
       "    </tr>\n",
       "    <tr>\n",
       "      <th>3000-4000</th>\n",
       "      <td>37.621192</td>\n",
       "    </tr>\n",
       "    <tr>\n",
       "      <th>4000-5000</th>\n",
       "      <td>34.620654</td>\n",
       "    </tr>\n",
       "    <tr>\n",
       "      <th>&gt;5000</th>\n",
       "      <td>21.245130</td>\n",
       "    </tr>\n",
       "    <tr>\n",
       "      <th>&gt;5000</th>\n",
       "      <td>19.906181</td>\n",
       "    </tr>\n",
       "  </tbody>\n",
       "</table>\n",
       "</div>"
      ],
      "text/plain": [
       "                       Rent_x_y\n",
       "hd_total07_quantiles           \n",
       "<1000                 27.394571\n",
       "1000-2000             32.455549\n",
       "<1000                 23.416327\n",
       "1000-2000             28.682854\n",
       "2000-3000             29.277009\n",
       "3000-4000             34.625238\n",
       "4000-5000             33.789298\n",
       "2000-3000             30.991326\n",
       "3000-4000             37.621192\n",
       "4000-5000             34.620654\n",
       ">5000                 21.245130\n",
       ">5000                 19.906181"
      ]
     },
     "execution_count": 53,
     "metadata": {},
     "output_type": "execute_result"
    }
   ],
   "source": [
    "df[[ 'hd_total07_quantiles', 'Rent_x_y']].drop_duplicates().set_index('hd_total07_quantiles')#.plot(kind = 'bar')"
   ]
  },
  {
   "cell_type": "code",
   "execution_count": 54,
   "metadata": {},
   "outputs": [
    {
     "data": {
      "text/plain": [
       "<matplotlib.axes._subplots.AxesSubplot at 0x2cd94b52ac8>"
      ]
     },
     "execution_count": 54,
     "metadata": {},
     "output_type": "execute_result"
    },
    {
     "data": {
      "image/png": "[encoded data removed]",
      "text/plain": [
       "<Figure size 432x288 with 1 Axes>"
      ]
     },
     "metadata": {
      "needs_background": "light"
     },
     "output_type": "display_data"
    }
   ],
   "source": [
    "df['Precipitation'].hist()"
   ]
  },
  {
   "cell_type": "code",
   "execution_count": 43,
   "metadata": {},
   "outputs": [],
   "source": [
    "df.to_csv(\"rentColdDays.csv\")"
   ]
  }
 ],
 "metadata": {
  "kernelspec": {
   "display_name": "Python 3",
   "language": "python",
   "name": "python3"
  },
  "language_info": {
   "codemirror_mode": {
    "name": "ipython",
    "version": 3
   },
   "file_extension": ".py",
   "mimetype": "text/x-python",
   "name": "python",
   "nbconvert_exporter": "python",
   "pygments_lexer": "ipython3",
   "version": "3.7.4"
  }
 },
 "nbformat": 4,
 "nbformat_minor": 2
}
